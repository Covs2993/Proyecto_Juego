{
 "cells": [
  {
   "cell_type": "code",
   "execution_count": 1,
   "id": "subtle-hostel",
   "metadata": {},
   "outputs": [],
   "source": [
    "import string\n",
    "\n",
    "def cipher_cipher_using_lookup(text,  key, characters = string.ascii_lowercase, decrypt=False):\n",
    "\n",
    "    if key < 0:\n",
    "\n",
    "        print(\"key cannot be negative\")\n",
    "\n",
    "        return None\n",
    "\n",
    "    n = len(characters)\n",
    "\n",
    "    if decrypt==True:\n",
    "\n",
    "        key = n - key\n",
    "\n",
    "    table = str.maketrans(characters, characters[key:]+characters[:key])\n",
    "    \n",
    "    translated_text = text.translate(table)\n",
    "    \n",
    "    return translated_text"
   ]
  },
  {
   "cell_type": "code",
   "execution_count": 3,
   "id": "certified-characteristic",
   "metadata": {},
   "outputs": [
    {
     "name": "stdout",
     "output_type": "stream",
     "text": [
      "Extended character set:\n",
      " abcdefghijklmnopqrstuvwxyzABCDEFGHIJKLMNOPQRSTUVWXYZ0123456789 !\"#$%&'()*+,-./:;<=>?@[\\]^_`{|}~\n",
      "Plain text:\n",
      " Zona de miedo o Vivir al límite\n",
      "Encrypted text:\n",
      " 4tsf%ij%rnjit%t%0nAnw%fq%qírnyj\n"
     ]
    }
   ],
   "source": [
    "# 1 Por cual película fue galardonada Kathryn Bigelow?\n",
    "# a_Zona de miedo o Vivir al límite\n",
    "\n",
    "character_set = string.ascii_lowercase + string.ascii_uppercase + string.digits + \" \"+ string.punctuation\n",
    "\n",
    "print(\"Extended character set:\\n\", character_set)\n",
    "\n",
    "plain_text = \"Zona de miedo o Vivir al límite\"\n",
    "\n",
    "encrypted = cipher_cipher_using_lookup(plain_text, 5, character_set, decrypt=False)\n",
    "\n",
    "print(\"Plain text:\\n\", plain_text)\n",
    "\n",
    "print(\"Encrypted text:\\n\", encrypted)"
   ]
  },
  {
   "cell_type": "code",
   "execution_count": null,
   "id": "popular-citizenship",
   "metadata": {},
   "outputs": [],
   "source": []
  }
 ],
 "metadata": {
  "kernelspec": {
   "display_name": "Python 3",
   "language": "python",
   "name": "python3"
  },
  "language_info": {
   "codemirror_mode": {
    "name": "ipython",
    "version": 3
   },
   "file_extension": ".py",
   "mimetype": "text/x-python",
   "name": "python",
   "nbconvert_exporter": "python",
   "pygments_lexer": "ipython3",
   "version": "3.9.2"
  }
 },
 "nbformat": 4,
 "nbformat_minor": 5
}
