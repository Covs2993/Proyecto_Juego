{
 "cells": [
  {
   "cell_type": "code",
   "execution_count": 12,
   "id": "subtle-hostel",
   "metadata": {},
   "outputs": [],
   "source": [
    "import string\n",
    "\n",
    "def cipher_cipher_using_lookup(text, key, characters = string.ascii_lowercase, decrypt=False, shift_type=\"right\"):\n",
    "\n",
    "    if key < 0:\n",
    "\n",
    "        print(\"key cannot be negative\")\n",
    "\n",
    "        return None\n",
    "\n",
    "    n = len(characters)\n",
    "\n",
    "    if decrypt==True:\n",
    "\n",
    "        key = n - key\n",
    "\n",
    "    if shift_type==\"left\":\n",
    "\n",
    "        # if left shift is desired, we simply inverse they sign of the key\n",
    "        key = -key\n",
    "\n",
    "    table = str.maketrans(characters, characters[key:]+characters[:key])\n",
    "\n",
    "    translated_text = text.translate(table)\n",
    "\n",
    "    return translated_text"
   ]
  },
  {
   "cell_type": "code",
   "execution_count": 13,
   "id": "certified-characteristic",
   "metadata": {
    "scrolled": true
   },
   "outputs": [
    {
     "name": "stdout",
     "output_type": "stream",
     "text": [
      "plain text: Hello World !\n",
      "encrypted text with negative shift: Ebiil Tloia !\n"
     ]
    }
   ],
   "source": [
    "text = \"Hello World !\"\n",
    "\n",
    "encrypted = cipher_cipher_using_lookup(text, 3, characters = (string.ascii_lowercase + string.ascii_uppercase), decrypt = False, shift_type=\"left\")\n",
    "\n",
    "print(\"plain text:\", text)\n",
    "\n",
    "print(\"encrypted text with negative shift:\",encrypted)"
   ]
  },
  {
   "cell_type": "code",
   "execution_count": 14,
   "id": "popular-citizenship",
   "metadata": {
    "scrolled": false
   },
   "outputs": [
    {
     "name": "stdout",
     "output_type": "stream",
     "text": [
      "encrypted text with negative shift: Ebiil Tloia !\n",
      "recovered text: Hello World !\n"
     ]
    }
   ],
   "source": [
    "text = \"Ebiil Tloia !\"\n",
    "\n",
    "decrypted = cipher_cipher_using_lookup(text, 3, characters = (string.ascii_lowercase + string.ascii_uppercase), decrypt = True, shift_type=\"left\")\n",
    "\n",
    "print(\"encrypted text with negative shift:\", text)\n",
    "\n",
    "print(\"recovered text:\",decrypted)"
   ]
  },
  {
   "cell_type": "code",
   "execution_count": null,
   "id": "positive-practice",
   "metadata": {},
   "outputs": [],
   "source": []
  }
 ],
 "metadata": {
  "kernelspec": {
   "display_name": "Python 3",
   "language": "python",
   "name": "python3"
  },
  "language_info": {
   "codemirror_mode": {
    "name": "ipython",
    "version": 3
   },
   "file_extension": ".py",
   "mimetype": "text/x-python",
   "name": "python",
   "nbconvert_exporter": "python",
   "pygments_lexer": "ipython3",
   "version": "3.9.2"
  }
 },
 "nbformat": 4,
 "nbformat_minor": 5
}
