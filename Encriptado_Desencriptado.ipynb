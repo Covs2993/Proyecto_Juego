{
 "cells": [
  {
   "cell_type": "markdown",
   "id": "sealed-playback",
   "metadata": {},
   "source": [
    "Ejecución de Cifrado César"
   ]
  },
  {
   "cell_type": "code",
   "execution_count": null,
   "id": "first-revolution",
   "metadata": {},
   "outputs": [],
   "source": [
    "#Encriptar respuesta\n",
    "Zona de miedo o Vivir al límite\n"
   ]
  },
  {
   "cell_type": "code",
   "execution_count": 2,
   "id": "hispanic-gravity",
   "metadata": {},
   "outputs": [
    {
     "name": "stdout",
     "output_type": "stream",
     "text": [
      "Plain text: ZONA DE MIEDO O VIVIR AL LIMITE\n",
      "Encrypted text: CRQD GH PLHGR R YLYLU DO OLPLWH\n"
     ]
    }
   ],
   "source": [
    "# defining the shift count\n",
    "\n",
    "shift = 3 \n",
    "\n",
    "text = \"ZONA DE MIEDO O VIVIR AL LIMITE\"\n",
    "\n",
    "encryption = \"\"\n",
    "\n",
    "for c in text:\n",
    "\n",
    "    # check if character is an uppercase letter\n",
    "    if c.isupper():\n",
    "\n",
    "        # find the position in 0-25\n",
    "        c_unicode = ord(c)\n",
    "\n",
    "        c_index = ord(c) - ord(\"A\")\n",
    "\n",
    "        # perform the shift\n",
    "        new_index = (c_index + shift) % 26\n",
    "\n",
    "        # convert to new character\n",
    "        new_unicode = new_index + ord(\"A\")\n",
    "\n",
    "        new_character = chr(new_unicode)\n",
    "\n",
    "        # append to encrypted string\n",
    "        encryption = encryption + new_character\n",
    "\n",
    "    else:\n",
    "\n",
    "        # since character is not uppercase, leave it as it is\n",
    "        encryption += c\n",
    "        \n",
    "print(\"Plain text:\",text)\n",
    "\n",
    "print(\"Encrypted text:\",encryption)"
   ]
  },
  {
   "cell_type": "code",
   "execution_count": 4,
   "id": "chronic-stranger",
   "metadata": {},
   "outputs": [
    {
     "name": "stdout",
     "output_type": "stream",
     "text": [
      "Encrypted text: CRQD GH PLHGR R YLYLU DO OLPLWH\n",
      "Decrypted text: ZONA DE MIEDO O VIVIR AL LIMITE\n"
     ]
    }
   ],
   "source": [
    "# defining the shift count\n",
    "\n",
    "shift = 3\n",
    "\n",
    "encrypted_text = encryption\n",
    "\n",
    "plain_text = \"\"\n",
    "\n",
    "for c in encrypted_text:\n",
    "\n",
    "    # check if character is an uppercase letter\n",
    "    if c.isupper():\n",
    "\n",
    "        # find the position in 0-25\n",
    "        c_unicode = ord(c)\n",
    "\n",
    "        c_index = ord(c) - ord(\"A\")\n",
    "\n",
    "        # perform the negative shift\n",
    "        new_index = (c_index - shift) % 26\n",
    "\n",
    "        # convert to new character\n",
    "        new_unicode = new_index + ord(\"A\")\n",
    "\n",
    "        new_character = chr(new_unicode)\n",
    "\n",
    "        # append to plain string\n",
    "        plain_text = plain_text + new_character\n",
    "\n",
    "    else:\n",
    "\n",
    "        # since character is not uppercase, leave it as it is\n",
    "        plain_text += c\n",
    "\n",
    "print(\"Encrypted text:\",encrypted_text)\n",
    "\n",
    "print(\"Decrypted text:\",plain_text)"
   ]
  },
  {
   "cell_type": "code",
   "execution_count": null,
   "id": "located-nursery",
   "metadata": {},
   "outputs": [],
   "source": []
  }
 ],
 "metadata": {
  "kernelspec": {
   "display_name": "Python 3",
   "language": "python",
   "name": "python3"
  },
  "language_info": {
   "codemirror_mode": {
    "name": "ipython",
    "version": 3
   },
   "file_extension": ".py",
   "mimetype": "text/x-python",
   "name": "python",
   "nbconvert_exporter": "python",
   "pygments_lexer": "ipython3",
   "version": "3.9.2"
  }
 },
 "nbformat": 4,
 "nbformat_minor": 5
}
