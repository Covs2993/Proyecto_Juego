{
 "cells": [
  {
   "cell_type": "code",
   "execution_count": 19,
   "id": "subtle-hostel",
   "metadata": {},
   "outputs": [],
   "source": [
    "# Definir el desplazamiento a la izquierda en la encriptación y un desplazamiento a la derecha en el proceso de desencriptación.\n",
    "\n",
    "import string\n",
    "\n",
    "def cipher(text, key, characters = string.ascii_lowercase, decrypt=False, shift_type=\"right\"):\n",
    "\n",
    "    if key < 0:\n",
    "\n",
    "        print(\"key cannot be negative\")\n",
    "\n",
    "        return None\n",
    "\n",
    "    n = len(characters)\n",
    "\n",
    "    if decrypt==True:\n",
    "\n",
    "        key = n - key\n",
    "\n",
    "    if shift_type==\"left\":\n",
    "\n",
    "        # if left shift is desired, we simply inverse they sign of the key\n",
    "        key = -key\n",
    "\n",
    "    table = str.maketrans(characters, characters[key:]+characters[:key])\n",
    "\n",
    "    translated_text = text.translate(table)\n",
    "\n",
    "    return translated_text"
   ]
  },
  {
   "cell_type": "code",
   "execution_count": 20,
   "id": "certified-characteristic",
   "metadata": {},
   "outputs": [
    {
     "name": "stdout",
     "output_type": "stream",
     "text": [
      "plain text: Zona de miedo o Vivir al límite\n",
      "encrypted text with negative shift: WlkX ab jfbal l Sfsfo Xi iíjfqb\n"
     ]
    }
   ],
   "source": [
    "# Encriptar la respuesta\n",
    "# Pregunta: 1 Por cual película fue galardonada Kathryn Bigelow?\n",
    "# Respuesta: a_Zona de miedo o Vivir al límite\n",
    "\n",
    "\n",
    "respuesta_a = \"Zona de miedo o Vivir al límite\"\n",
    "\n",
    "encrypted = cipher(respuesta_a, 3, characters = (string.ascii_lowercase + string.ascii_uppercase), \n",
    "                   decrypt = False, shift_type=\"left\")\n",
    "\n",
    "print(\"plain text:\", respuesta_a)\n",
    "\n",
    "print(\"encrypted text with negative shift:\",encrypted)\n"
   ]
  },
  {
   "cell_type": "code",
   "execution_count": 23,
   "id": "popular-citizenship",
   "metadata": {
    "scrolled": true
   },
   "outputs": [
    {
     "name": "stdout",
     "output_type": "stream",
     "text": [
      "encrypted text with negative shift: WlkX ab jfbal l Sfsfo Xi iíjfqb\n",
      "recovered text: Zona de miedo o Vivir al límite\n"
     ]
    }
   ],
   "source": [
    "text = encrypted\n",
    "\n",
    "decrypted = cipher(text, 3, characters = (string.ascii_lowercase + string.ascii_uppercase), decrypt = True, shift_type=\"left\")\n",
    "\n",
    "print(\"encrypted text with negative shift:\", text)\n",
    "\n",
    "print(\"recovered text:\",decrypted)"
   ]
  },
  {
   "cell_type": "code",
   "execution_count": null,
   "id": "forward-adapter",
   "metadata": {},
   "outputs": [],
   "source": []
  }
 ],
 "metadata": {
  "kernelspec": {
   "display_name": "Python 3",
   "language": "python",
   "name": "python3"
  },
  "language_info": {
   "codemirror_mode": {
    "name": "ipython",
    "version": 3
   },
   "file_extension": ".py",
   "mimetype": "text/x-python",
   "name": "python",
   "nbconvert_exporter": "python",
   "pygments_lexer": "ipython3",
   "version": "3.8.9"
  }
 },
 "nbformat": 4,
 "nbformat_minor": 5
}
