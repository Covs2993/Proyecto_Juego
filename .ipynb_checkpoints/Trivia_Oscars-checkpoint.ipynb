{
 "cells": [
  {
   "cell_type": "code",
   "execution_count": 2,
   "id": "f5781153",
   "metadata": {},
   "outputs": [],
   "source": [
    "question_prompts = [\n",
    "    \"What color are apples?\\n a) Red/Green\\n b) Purple\\n c) Orange\\n\\n\",\n",
    "    \"What color are Bannanas?\\n a) Teal\\n b) Magenta\\n c) Yellow\\n\\n\",\n",
    "    \"What color are strawberries?\\n a) Yellow\\n b) Red\\n c) Blue\\n\\n\",\n",
    "]"
   ]
  },
  {
   "cell_type": "code",
   "execution_count": 3,
   "id": "a30afff1",
   "metadata": {},
   "outputs": [],
   "source": [
    "class Question:\n",
    "    def __init__(self, prompt, answer):\n",
    "        self.promt = prompt\n",
    "        self.answer=answer\n",
    "\n",
    "questions =[\n",
    "    Question(question_prompts[0],\"a\"),\n",
    "    Question(question_prompts[1],\"c\"),\n",
    "    Question(question_prompts[2],\"b\")\n",
    "]"
   ]
  },
  {
   "cell_type": "code",
   "execution_count": 4,
   "id": "5316e312",
   "metadata": {},
   "outputs": [],
   "source": [
    "def run_test(questions):\n",
    "    score = 0\n",
    "    for question in questions:\n",
    "        answer = input(question.promt)\n",
    "        if answer== question.answer:\n",
    "            score +=1\n",
    "    print(\"You got \"+ str(score)+\"/\"+str(len(questions))+\"correct\")"
   ]
  },
  {
   "cell_type": "code",
   "execution_count": 7,
   "id": "7293345e",
   "metadata": {},
   "outputs": [
    {
     "name": "stdout",
     "output_type": "stream",
     "text": [
      "What color are apples?\n",
      " a) Red/Green\n",
      " b) Purple\n",
      " c) Orange\n",
      "\n",
      "b\n",
      "What color are Bannanas?\n",
      " a) Teal\n",
      " b) Magenta\n",
      " c) Yellow\n",
      "\n",
      "b\n",
      "What color are strawberries?\n",
      " a) Yellow\n",
      " b) Red\n",
      " c) Blue\n",
      "\n",
      "b\n",
      "You got 1/3correct\n"
     ]
    }
   ],
   "source": [
    " run_test(questions)"
   ]
  },
  {
   "cell_type": "code",
   "execution_count": null,
   "id": "9784088e",
   "metadata": {},
   "outputs": [],
   "source": []
  },
  {
   "cell_type": "code",
   "execution_count": null,
   "id": "853aa000",
   "metadata": {},
   "outputs": [],
   "source": []
  },
  {
   "cell_type": "code",
   "execution_count": null,
   "id": "b3a5b2bb",
   "metadata": {},
   "outputs": [],
   "source": []
  },
  {
   "cell_type": "code",
   "execution_count": null,
   "id": "07fc526e",
   "metadata": {},
   "outputs": [],
   "source": []
  },
  {
   "cell_type": "code",
   "execution_count": null,
   "id": "5284d9be",
   "metadata": {},
   "outputs": [],
   "source": []
  },
  {
   "cell_type": "code",
   "execution_count": null,
   "id": "3d6a5fd0",
   "metadata": {},
   "outputs": [],
   "source": []
  },
  {
   "cell_type": "code",
   "execution_count": null,
   "id": "4da1244b",
   "metadata": {},
   "outputs": [],
   "source": []
  },
  {
   "cell_type": "code",
   "execution_count": null,
   "id": "fd65bf03",
   "metadata": {},
   "outputs": [],
   "source": []
  },
  {
   "cell_type": "code",
   "execution_count": null,
   "id": "452f13a9",
   "metadata": {},
   "outputs": [],
   "source": []
  },
  {
   "cell_type": "code",
   "execution_count": null,
   "id": "433f7743",
   "metadata": {},
   "outputs": [],
   "source": []
  },
  {
   "cell_type": "code",
   "execution_count": null,
   "id": "c6a464ad",
   "metadata": {},
   "outputs": [],
   "source": []
  },
  {
   "cell_type": "code",
   "execution_count": null,
   "id": "4089bfc0",
   "metadata": {},
   "outputs": [],
   "source": []
  }
 ],
 "metadata": {
  "kernelspec": {
   "display_name": "Python 3",
   "language": "python",
   "name": "python3"
  },
  "language_info": {
   "codemirror_mode": {
    "name": "ipython",
    "version": 3
   },
   "file_extension": ".py",
   "mimetype": "text/x-python",
   "name": "python",
   "nbconvert_exporter": "python",
   "pygments_lexer": "ipython3",
   "version": "3.8.9"
  }
 },
 "nbformat": 4,
 "nbformat_minor": 5
}
