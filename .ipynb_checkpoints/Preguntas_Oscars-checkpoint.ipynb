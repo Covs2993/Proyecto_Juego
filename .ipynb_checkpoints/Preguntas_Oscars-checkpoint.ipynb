{
 "cells": [
  {
   "cell_type": "code",
   "execution_count": 6,
   "id": "bf9ea61c",
   "metadata": {},
   "outputs": [],
   "source": [
    "import re\n",
    "import random"
   ]
  },
  {
   "cell_type": "code",
   "execution_count": 7,
   "id": "80484116",
   "metadata": {},
   "outputs": [],
   "source": [
    "#Abrimos y leemos el archivo de preguntas\n",
    "with open('Preguntas_prueba','r',encoding='utf8') as p:\n",
    "    text1=p.read()\n",
    "#Separamos por el delimitador las preguntas \n",
    "preguntas_Oscars=text1.split('//')\n",
    "\n",
    "#Abrimos y leemos el archivo de las respuestas\n",
    "with open('prueba_respuestas.txt','r',encoding='utf8') as q:\n",
    "    text2=q.read()\n",
    "#Separamos por el delimitador cada respuesta   \n",
    "respuestas_Oscars=text2.split('//')"
   ]
  },
  {
   "cell_type": "code",
   "execution_count": 11,
   "id": "5dbd4de3",
   "metadata": {},
   "outputs": [],
   "source": [
    "#Creamos la clase que se utilizará. el Prompt será la pregunta y answer la respuesta del usuario\n",
    "class Pregunta:\n",
    "    def __init__(self, prompt, answer):\n",
    "        self.prompt = prompt\n",
    "        self.answer = answer\n"
   ]
  },
  {
   "cell_type": "code",
   "execution_count": 14,
   "id": "23fbfc15",
   "metadata": {},
   "outputs": [],
   "source": [
    "#Definimos la funcion que vamos a correr \n",
    "def run_test(preguntas_Oscars):\n",
    "    score = 0\n",
    "    for i in range(5):\n",
    "        preguntar= random.choice(preguntas_Oscars)\n",
    "        print(preguntar)\n",
    "        i= preguntas_Oscars.index(preguntar)\n",
    "        preguntas_Oscars.remove(preguntar)\n",
    "        answer = input()\n",
    "        if answer==respuestas_Oscars[i]:\n",
    "            score+=1\n",
    "    print(\"Tuviste \"+ str(score)+\"/\"+str(5)+\"correct\")"
   ]
  },
  {
   "cell_type": "code",
   "execution_count": 16,
   "id": "9a07062a",
   "metadata": {},
   "outputs": [
    {
     "name": "stdout",
     "output_type": "stream",
     "text": [
      "\n",
      "5 Cuando se transmitieron los Oscar por primera vez en television?\n",
      "a) 1953\n",
      "b) 1982\n",
      "c) 1968\n",
      "\n",
      "a\n",
      "\n",
      "3 Quien ha ganado más estatuillas a o largo de la historia?\n",
      "a) Tim Burton\n",
      "b) Walt Disney\n",
      "c) Ub Iwerks\n",
      "\n",
      "b\n",
      "\n",
      "2 Cual es el valor de un Oscar?\n",
      "a) 1\n",
      "b) 1000\n",
      "c) 10000000\n",
      "\n",
      "a\n",
      "\n",
      "6 Quien se gano un Oscar despues de haber fallecido?\n",
      "a) Robin Williams\n",
      "b) Patrick Swayze\n",
      "c) Heath Ledger\n",
      "\n",
      "b\n",
      "\n",
      "4 Actriz que ha ganado el mayor numero de Premios Oscar?\n",
      "a) Meryl Streep\n",
      "b) Katharine Hepburn\n",
      "c) Helen Rose\n",
      "\n",
      "c\n",
      "Tuviste 4/5correct\n"
     ]
    }
   ],
   "source": [
    " run_test(preguntas_Oscars)"
   ]
  },
  {
   "cell_type": "code",
   "execution_count": 287,
   "id": "5f6f4ec8",
   "metadata": {},
   "outputs": [
    {
     "name": "stdout",
     "output_type": "stream",
     "text": [
      "['b', 'a', 'b', 'c', 'a', 'c', 'a', 'a']\n"
     ]
    }
   ],
   "source": [
    "print(respuestas_Oscars)"
   ]
  }
 ],
 "metadata": {
  "kernelspec": {
   "display_name": "Python 3",
   "language": "python",
   "name": "python3"
  },
  "language_info": {
   "codemirror_mode": {
    "name": "ipython",
    "version": 3
   },
   "file_extension": ".py",
   "mimetype": "text/x-python",
   "name": "python",
   "nbconvert_exporter": "python",
   "pygments_lexer": "ipython3",
   "version": "3.8.9"
  }
 },
 "nbformat": 4,
 "nbformat_minor": 5
}
