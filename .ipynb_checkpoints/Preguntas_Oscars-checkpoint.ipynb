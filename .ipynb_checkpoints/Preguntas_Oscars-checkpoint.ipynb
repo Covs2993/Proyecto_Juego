{
 "cells": [
  {
   "cell_type": "code",
   "execution_count": null,
   "id": "bf9ea61c",
   "metadata": {},
   "outputs": [],
   "source": [
    "import re\n",
    "import random\n",
    "import os\n",
    "import string"
   ]
  },
  {
   "cell_type": "code",
   "execution_count": 69,
   "id": "80484116",
   "metadata": {},
   "outputs": [],
   "source": [
    "#Abrimos y leemos el archivo de preguntas\n",
    "with open('Preguntas_prueba','r',encoding='utf8') as p:\n",
    "    text1=p.read()\n",
    "#Separamos por el delimitador las preguntas \n",
    "\n",
    "preguntas_Oscars=text1.split('//')\n",
    "preguntas_Oscars=[x.strip(\"\\n\") for x in preguntas_Oscars]\n",
    "\n",
    "#Abrimos y leemos el archivo de las respuestas\n",
    "with open('Respuestas_Oscars.txt','r',encoding='utf8') as q:\n",
    "    text2=q.read()\n",
    "#Separamos por el delimitador cada respuesta   \n",
    "respuestas_Oscars=text2.split('//')\n",
    "\n",
    "preg_resp = list(zip(preguntas_Oscars,respuestas_Oscars))\n",
    "                 \n",
    "#Abrimos y leemos el archivo de las preguntas encriptadas\n",
    "with open('Preguntas_Encriptadas','r',encoding='utf8') as w:\n",
    "    text3=w.read()\n",
    "#Separamos por el delimitador cada pregunta encriptada  \n",
    "preguntas_Encriptadas=text3.split('//')\n",
    "\n",
    "#Abrimos y leemos el archivo de las respuestas encriptadas\n",
    "with open('Respuestas_Encriptadas','r',encoding='utf8') as t:\n",
    "    text4=t.read()\n",
    "#Separamos por el delimitador cada respuesta encriptadas\n",
    "respuestas_Encriptadas=text4.split('//')"
   ]
  },
  {
   "cell_type": "code",
   "execution_count": 70,
   "id": "bf2ac063",
   "metadata": {},
   "outputs": [
    {
     "name": "stdout",
     "output_type": "stream",
     "text": [
      "[('Cuantas personas han tenido la estatuilla Oscar a titulo postumo?\\na) 1\\nb) 2\\nc)Nadie', 'b'), ('Cual es el valor de un Oscar?\\na) 1\\nb) 1000\\nc) 10000000', 'a'), ('Quien ha ganado mas estatuillas a o largo de la historia?\\na) Tim Burton \\nb) Walt Disney\\nc) Ub Iwerks', 'b'), ('Actriz que ha ganado el mayor numero de Premios Oscar?\\na) Meryl Streep\\nb) Katharine Hepburn\\nc) Helen Rose', 'b'), ('Cuando se transmitieron los Oscar por primera vez en television?\\na) 1953\\nb) 1982\\nc) 1968', 'a'), ('Quien se gano un Oscar despues de haber fallecido?\\na) Robin Williams\\nb) Patrick Swayze\\nc) Heath Ledger', 'c'), ('Ben-Hur, Titanic y el Senor de los Anillos: el Retorno del Rey tienen un triple empate por la pelicula con mas Oscars?\\na) Verdadero\\nb) Falso', 'a'), ('Jack Nicholson obtuvo el galardon al mejor actor en 1976 por Alguien Volo Sobre el Nido del Cuco?\\na) Verdadero\\nb) Falso', 'a'), ('Oscar Hammerstein II se convirtió en 1942 en la primera persona llamada Oscar en llevarse un Oscar?\\na) Verdadero\\nb) Falso', 'a'), ('Italia es el país que mas Oscars ha ganado en la categoría de película de habla no inglesa?\\na) Verdadero \\nb) Falso', 'b'), ('Cuantas directoras han sido nominadas a un Oscar?\\na) 4\\nb) 7 \\nc) 2', 'a'), ('Cuantos Oscars ha ganado \"Lo que el Viento se llevo\"?\\na) 10\\nb) 8\\nc) 6', 'a'), ('Cuantos premios Oscars tiene Walt Disney?\\na) 22\\nb) 18\\nc) 12', 'a'), ('Cuantos premios posee España?\\na) 4\\nb) 3\\nc) 12', 'a'), ('Cuantos Oscars ostenta Johnny Depp?\\na) Ninguno\\nb) 1  \\nc) 2', 'a')]\n"
     ]
    }
   ],
   "source": [
    "print(preg_resp)"
   ]
  },
  {
   "cell_type": "code",
   "execution_count": 66,
   "id": "8eeef418",
   "metadata": {},
   "outputs": [],
   "source": [
    "#Definimos la función para el cifrado toma:\n",
    "#Texto a cifrar, \n",
    "#la llave que en este caso es 3 y se usará para desplazarse\n",
    "#String.ascciilowercase, toma como constantes y minusculas los caracteres\n",
    "# Inicializamos la descencripción como falso ya que primero deberá de encriptar\n",
    "# Cuando se encripta se recorren a la derecha el número de la llave, para desencriptar se corre a la izquierda\n",
    "def cipher(texto, llave, characters = string.ascii_lowercase, decrypt=False, shift_type=\"right\"):\n",
    "\n",
    "    n = len(characters)\n",
    "    #Cuando vamos a desencriptar entramos en este if\n",
    "    if decrypt==True:\n",
    "        llave = n - llave\n",
    "\n",
    "    if shift_type==\"left\":\n",
    "        # se pasa a la izquiera cuando queremos desencriptar y la llave se pasa a negativa\n",
    "        llave = -llave\n",
    "    #Cambiamos los caracteres al número para moverse de acuerdo a las llaves\n",
    "    table = str.maketrans(characters, characters[llave:]+characters[:llave])\n",
    "    #Se cambia los números a sus equivalentes en letras ASCII\n",
    "    translated_text = texto.translate(table)\n",
    "    #Regresamos el texto encriptado o desencriptado\n",
    "    return translated_text"
   ]
  },
  {
   "cell_type": "code",
   "execution_count": 74,
   "id": "e6e87b61",
   "metadata": {},
   "outputs": [],
   "source": [
    "#Definimos la funcion que vamos a correr \n",
    "def trivia(preguntas_Oscars):\n",
    "\n",
    "    score = 0\n",
    "    for i in range(5):\n",
    "        preguntar= random.choice(preg_resp)\n",
    "        print(i+1,preguntar[0])\n",
    "        j= preg_resp.index(preguntar)\n",
    "        print(i)\n",
    "        b\n",
    "        print(j)\n",
    "        answer = respuestas()\n",
    "        if answer==preguntar[1]:\n",
    "            score+=1\n",
    "            print('Respuesta correcta\\n')\n",
    "        else:\n",
    "            print(\"La respuesta correcta es \", preguntar[1],'\\n')\n",
    "        os.system(\"cls\")\n",
    "    \n",
    "        preg_resp.remove(preg_resp[j])\n",
    "\n",
    "        print(\"-----------------\")\n",
    "    print(\"Tuviste \"+ str(score)+\"/\"+str(5)+\"correctas\")\n",
    "    resultado(score,i)"
   ]
  },
  {
   "cell_type": "code",
   "execution_count": 76,
   "id": "0b010010",
   "metadata": {},
   "outputs": [
    {
     "name": "stdout",
     "output_type": "stream",
     "text": [
      "1 Cuantas personas han tenido la estatuilla Oscar a titulo postumo?\n",
      "a) 1\n",
      "b) 2\n",
      "c)Nadie\n",
      "0\n",
      "f\n",
      "Debe ser una letra dentro de las opciones\n",
      "b\n",
      "Respuesta correcta\n",
      "\n",
      "-----------------\n",
      "2 Cuantos premios Oscars tiene Walt Disney?\n",
      "a) 22\n",
      "b) 18\n",
      "c) 12\n",
      "1\n",
      "a\n",
      "Respuesta correcta\n",
      "\n",
      "-----------------\n",
      "3 Cuantos premios posee España?\n",
      "a) 4\n",
      "b) 3\n",
      "c) 12\n",
      "2\n",
      "b\n",
      "La respuesta correcta es  a \n",
      "\n",
      "-----------------\n",
      "4 Cuando se transmitieron los Oscar por primera vez en television?\n",
      "a) 1953\n",
      "b) 1982\n",
      "c) 1968\n",
      "3\n",
      "a\n",
      "Respuesta correcta\n",
      "\n",
      "-----------------\n",
      "5 Cuantos Oscars ostenta Johnny Depp?\n",
      "a) Ninguno\n",
      "b) 1  \n",
      "c) 2\n",
      "4\n",
      "b\n",
      "La respuesta correcta es  a \n",
      "\n",
      "-----------------\n",
      "Tuviste 3/5correctas\n",
      "¡Perdiste!\n",
      "Se acabo el juego\n"
     ]
    }
   ],
   "source": [
    "trivia(preguntas_Oscars)"
   ]
  },
  {
   "cell_type": "code",
   "execution_count": 60,
   "id": "cb1a299f",
   "metadata": {},
   "outputs": [],
   "source": [
    "def respuestas():\n",
    "    flag=True\n",
    "    while flag:\n",
    "        try:\n",
    "            answer = input()\n",
    "            if answer in ['a','b','c']:\n",
    "                flag=False\n",
    "            else:\n",
    "                raise ValueError \n",
    "        except ValueError:\n",
    "                print(\"Debe ser una letra dentro de las opciones\")\n",
    "    return answer"
   ]
  },
  {
   "cell_type": "code",
   "execution_count": 56,
   "id": "f32a1626",
   "metadata": {},
   "outputs": [],
   "source": [
    "#De acuerdo al número de respuestas podrás pasar a 2 fase, pregunta adicional o perder y el juego se habrá terminado\n",
    "def resultado(score, i):\n",
    "    #Todas las respuestas correctas a la primera. Se manda llamar a la función de preguntas encriptadas\n",
    "    if score ==5:\n",
    "        print('Pasaste a la siguiente ronda.\\n Deberas de descifrar la respuesta correcta de las siguientes preguntas')\n",
    "        #Llamado a función de encriptadas\n",
    "        encriptado(preguntas_Encriptadas)\n",
    "    # Se hace una pregunta adicional, en caso de contestar bien se pasa a la segunda parte del juego sino se termina.\n",
    "    elif score ==4:\n",
    "    #Pregunta adicional\n",
    "        \n",
    "        preguntar= random.choice(preguntas_Oscars)\n",
    "        print(i+1,preguntar)\n",
    "        j= preguntas_Oscars.index(preguntar)\n",
    "        answer= respuestas()\n",
    "\n",
    "                \n",
    "    #Se revisa si la pregunta estuvo correcta para pasar a la segunda ronda\n",
    "        if answer==respuestas_Oscars[j]:\n",
    "            print('Respuesta correcta\\n')\n",
    "            print('Pasaste a la siguiente ronda.\\n Deberas de descifrar la respuesta correcta de las siguientes preguntas')\n",
    "            #Llamado a función de encriptadas\n",
    "            encriptado(preguntas_Encriptadas)    \n",
    "    #Se ha terminado el juego\n",
    "        else:\n",
    "            print(\"Respuesta incorrecta!\\n La respuesta correcta es \", respuestas_Oscars[i],'\\n')\n",
    "            print(\"¡Perdiste!\")\n",
    "    else:\n",
    "        print(\"¡Perdiste!\")\n",
    "        print(\"Se acabo el juego\")\n"
   ]
  },
  {
   "cell_type": "code",
   "execution_count": 57,
   "id": "735ea1e1",
   "metadata": {},
   "outputs": [],
   "source": [
    "#Segunda parte del juego, preguntas encriptadas\n",
    "#Definimos la función que se llama para encriptar las respuestas\n",
    "def encriptado(preguntas_Encriptadas):\n",
    "    correctas=0\n",
    "    for encrip in range(2):\n",
    "        preguntar2= random.choice(preguntas_Encriptadas)\n",
    "        print(encrip+1,preguntar2)\n",
    "        l= preguntas_Encriptadas.index(preguntar2)\n",
    "        respuesta_a = respuestas_Encriptadas[l]\n",
    "        encrypted = cipher(respuesta_a, 3, characters = (string.ascii_lowercase + string.ascii_uppercase), \n",
    "                   decrypt = False, shift_type=\"left\")\n",
    "        print(\"plain text:\", respuesta_a)\n",
    "        print(\"encrypted text with negative shift:\",encrypted)\n",
    "        answer2 = input()\n",
    "        decrypted = cipher(encrypted, 3, characters = (string.ascii_lowercase + string.ascii_uppercase), decrypt = True, shift_type=\"left\")\n",
    "        print(\"encrypted text with negative shift:\", encrypted)\n",
    "        print(\"recovered text:\",decrypted)\n",
    "        \n",
    "        if answer2==decrypted:\n",
    "            correctas+=1\n",
    "            print('Respuesta correcta\\n')\n",
    "           # print('¡Felicidades ganaste!')\n",
    "        else:\n",
    "            print(\"Mal y ya perdiste\")\n",
    "            break"
   ]
  },
  {
   "cell_type": "code",
   "execution_count": 59,
   "id": "e2908633",
   "metadata": {},
   "outputs": [
    {
     "name": "stdout",
     "output_type": "stream",
     "text": [
      "1 Cuantos Oscars ha ganado \"Lo que el Viento se llevo\"?\n",
      "a) 10\n",
      "b) 8\n",
      "c) 6\n",
      "a\n",
      "Respuesta correcta\n",
      "\n",
      "2 Italia es el país que mas Oscars ha ganado en la categoría de película de habla no inglesa?\n",
      "a) Verdadero\n",
      "b) Falso\n",
      "b\n",
      "La respuesta correcta es  a \n",
      "\n",
      "3 Cual es el valor de un Oscar?\n",
      "a) 1\n",
      "b) 1000\n",
      "c) 10000000\n",
      "a\n",
      "Respuesta correcta\n",
      "\n",
      "4 Actriz que ha ganado el mayor numero de Premios Oscar?\n",
      "a) Meryl Streep\n",
      "b) Katharine Hepburn\n",
      "c) Helen Rose\n",
      "c\n",
      "Respuesta correcta\n",
      "\n",
      "5 Cuando se transmitieron los Oscar por primera vez en television?\n",
      "a) 1953\n",
      "b) 1982\n",
      "c) 1968\n",
      "a\n",
      "Respuesta correcta\n",
      "\n",
      "Tuviste 4/5correctas\n",
      "5 Cuantos Oscars ha ganado \"Lo que el Viento se llevo\"?\n",
      "a) 10\n",
      "b) 8\n",
      "c) 6\n",
      "a\n",
      "Respuesta correcta\n",
      "\n",
      "Pasaste a la siguiente ronda.\n",
      " Deberas de descifrar la respuesta correcta de las siguientes preguntas\n",
      "1 \n",
      "Peter Finch gano el galardon al mejor actor por la pelicula?\n",
      "a) Dos amores en conflicto\n",
      "b) Historia de una monja\n",
      "c) Poder que mata\n",
      "\n",
      "plain text: Poder que mata\n",
      "encrypted text with negative shift: Mlabo nrb jXqX\n",
      "Poder que mata\n",
      "encrypted text with negative shift: Mlabo nrb jXqX\n",
      "recovered text: Poder que mata\n",
      "Respuesta correcta\n",
      "\n",
      "¡Felicidades ganaste!\n",
      "2 \n",
      "Cual fue la pelicula en llevarse el premio en 1953 Primera transmision de los Oscars por televisión?\n",
      "a) El gran showman\n",
      "b) El gran Ziegfeld\n",
      "c) El mayor espectaculo del mundo\n",
      "\n",
      "plain text: El mayor espectaculo del mundo\n",
      "encrypted text with negative shift: Bi jXvlo bpmbZqXZril abi jrkal\n",
      "el gran shownman+\n",
      "encrypted text with negative shift: Bi jXvlo bpmbZqXZril abi jrkal\n",
      "recovered text: El mayor espectaculo del mundo\n",
      "Mal y ya perdiste\n"
     ]
    }
   ],
   "source": [
    " trivia(preguntas_Oscars)"
   ]
  },
  {
   "cell_type": "code",
   "execution_count": null,
   "id": "12d315f7",
   "metadata": {},
   "outputs": [],
   "source": []
  },
  {
   "cell_type": "code",
   "execution_count": 83,
   "id": "5f6f4ec8",
   "metadata": {
    "scrolled": true
   },
   "outputs": [
    {
     "name": "stdout",
     "output_type": "stream",
     "text": [
      "['b', 'a', 'b', 'b', 'a', 'c', 'a', 'a']\n"
     ]
    }
   ],
   "source": [
    "print(respuestas_Oscars)"
   ]
  },
  {
   "cell_type": "raw",
   "id": "add5882e",
   "metadata": {},
   "source": []
  }
 ],
 "metadata": {
  "kernelspec": {
   "display_name": "Python 3",
   "language": "python",
   "name": "python3"
  },
  "language_info": {
   "codemirror_mode": {
    "name": "ipython",
    "version": 3
   },
   "file_extension": ".py",
   "mimetype": "text/x-python",
   "name": "python",
   "nbconvert_exporter": "python",
   "pygments_lexer": "ipython3",
   "version": "3.8.9"
  }
 },
 "nbformat": 4,
 "nbformat_minor": 5
}
