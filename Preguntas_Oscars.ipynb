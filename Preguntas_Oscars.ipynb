{
 "cells": [
  {
   "cell_type": "code",
   "execution_count": 74,
   "id": "bf9ea61c",
   "metadata": {},
   "outputs": [],
   "source": [
    "import re\n",
    "import random\n",
    "import os"
   ]
  },
  {
   "cell_type": "code",
   "execution_count": 75,
   "id": "80484116",
   "metadata": {},
   "outputs": [],
   "source": [
    "#Abrimos y leemos el archivo de preguntas\n",
    "with open('Preguntas_prueba','r',encoding='utf8') as p:\n",
    "    text1=p.read()\n",
    "#Separamos por el delimitador las preguntas \n",
    "preguntas_Oscars=text1.split('//')\n",
    "\n",
    "#Abrimos y leemos el archivo de las respuestas\n",
    "with open('prueba_respuestas.txt','r',encoding='utf8') as q:\n",
    "    text2=q.read()\n",
    "#Separamos por el delimitador cada respuesta   \n",
    "respuestas_Oscars=text2.split('//')"
   ]
  },
  {
   "cell_type": "code",
   "execution_count": 76,
   "id": "5dbd4de3",
   "metadata": {},
   "outputs": [],
   "source": [
    "#Creamos la clase que se utilizará. \n",
    "class Pregunta:\n",
    "    def __init__(self, prompt, answer):\n",
    "        self.pregunta = pregunta\n",
    "        self.respuesta = respuesta\n"
   ]
  },
  {
   "cell_type": "code",
   "execution_count": 87,
   "id": "f20a7dba",
   "metadata": {},
   "outputs": [],
   "source": [
    "#Definimos la funcion que vamos a correr \n",
    "def trivia(preguntas_Oscars, respuestas_Oscars):\n",
    "    score = 0\n",
    "    for i in range(5):\n",
    "        respuesta=input(random.choice(preguntas_Oscars))\n",
    "        j= preguntas_Oscars.index(preguntas_Oscars)\n",
    "       #print(\"valor de j\",j)\n",
    "       #print(\"valor de i\",i)\n",
    "        #print(respuestas_Oscars[j])\n",
    "        if respuesta==i.respuestas_Oscars[j]:\n",
    "            score+=1\n",
    "            print('Respuesta correcta\\n')\n",
    "        else:\n",
    "            print(\"La respuesta correcta es \", respuestas_Oscars[i],'\\n')\n",
    "        os.system(\"cls\")\n",
    "    \n",
    "       # preguntas_Oscars.remove(preguntar)\n",
    "        #respuestas_Oscars.remove(respuestas_Oscars[i])\n",
    "    \n",
    "    print(\"Tuviste \"+ str(score)+\"/\"+str(5)+\"correctas\")"
   ]
  },
  {
   "cell_type": "raw",
   "id": "4fffc2be",
   "metadata": {},
   "source": [
    "#Definimos la funcion que vamos a correr \n",
    "def trivia(preguntas_Oscars):\n",
    "    score = 0\n",
    "    for i in range(5):\n",
    "        preguntar= random.choice(preguntas_Oscars)\n",
    "        print(i+1,preguntar)\n",
    "        j= preguntas_Oscars.index(preguntar)\n",
    "       #print(\"valor de j\",j)\n",
    "       #print(\"valor de i\",i)\n",
    "        #print(respuestas_Oscars[j])\n",
    "        answer = input()\n",
    "        if answer==respuestas_Oscars[j]:\n",
    "            score+=1\n",
    "            print('Respuesta correcta\\n')\n",
    "        else:\n",
    "            print(\"La respuesta correcta es \", respuestas_Oscars[i],'\\n')\n",
    "        os.system(\"cls\")\n",
    "    \n",
    "       # preguntas_Oscars.remove(preguntar)\n",
    "        #respuestas_Oscars.remove(respuestas_Oscars[i])\n",
    "    \n",
    "    print(\"Tuviste \"+ str(score)+\"/\"+str(5)+\"correctas\")"
   ]
  },
  {
   "cell_type": "code",
   "execution_count": 88,
   "id": "9a07062a",
   "metadata": {},
   "outputs": [
    {
     "name": "stdout",
     "output_type": "stream",
     "text": [
      "\n",
      " Cual es el valor de un Oscar?\n",
      "a) 1\n",
      "b) 1000\n",
      "c) 10000000\n",
      "a\n"
     ]
    },
    {
     "ename": "ValueError",
     "evalue": "[' Cuantas personas han tenido la estatuilla Oscar a titulo postumo?\\na) 1\\nb) 2\\nc)Nadie\\n', '\\n Cual es el valor de un Oscar?\\na) 1\\nb) 1000\\nc) 10000000\\n', '\\n Quien ha ganado más estatuillas a o largo de la historia?\\na) Tim Burton\\nb) Walt Disney\\nc) Ub Iwerks\\n', '\\n Actriz que ha ganado el mayor numero de Premios Oscar?\\na) Meryl Streep\\nb) Katharine Hepburn\\nc) Helen Rose\\n', '\\n Cuando se transmitieron los Oscar por primera vez en television?\\na) 1953\\nb) 1982\\nc) 1968\\n', '\\n Quien se gano un Oscar despues de haber fallecido?\\na) Robin Williams\\nb) Patrick Swayze\\nc) Heath Ledger\\n', '\\n Ben-Hur, Titanic y el Senor de los Anillos: el Retorno del Rey tienen un triple empate por la pelicula con mas Oscars?\\na) Verdadero\\nb) Falso\\n', '\\n Que actor ostenta mas nominaciones?\\na) Jack Nicholson\\nb) Daniel Day Lewis\\nc) Walter Brennan'] is not in list",
     "output_type": "error",
     "traceback": [
      "\u001b[1;31m---------------------------------------------------------------------------\u001b[0m",
      "\u001b[1;31mValueError\u001b[0m                                Traceback (most recent call last)",
      "\u001b[1;32m<ipython-input-88-2197e33e05e3>\u001b[0m in \u001b[0;36m<module>\u001b[1;34m\u001b[0m\n\u001b[1;32m----> 1\u001b[1;33m \u001b[0mtrivia\u001b[0m\u001b[1;33m(\u001b[0m\u001b[0mpreguntas_Oscars\u001b[0m\u001b[1;33m,\u001b[0m \u001b[0mrespuestas_Oscars\u001b[0m\u001b[1;33m)\u001b[0m\u001b[1;33m\u001b[0m\u001b[1;33m\u001b[0m\u001b[0m\n\u001b[0m",
      "\u001b[1;32m<ipython-input-87-cac0d76ec434>\u001b[0m in \u001b[0;36mtrivia\u001b[1;34m(preguntas_Oscars, respuestas_Oscars)\u001b[0m\n\u001b[0;32m      4\u001b[0m     \u001b[1;32mfor\u001b[0m \u001b[0mi\u001b[0m \u001b[1;32min\u001b[0m \u001b[0mrange\u001b[0m\u001b[1;33m(\u001b[0m\u001b[1;36m5\u001b[0m\u001b[1;33m)\u001b[0m\u001b[1;33m:\u001b[0m\u001b[1;33m\u001b[0m\u001b[1;33m\u001b[0m\u001b[0m\n\u001b[0;32m      5\u001b[0m         \u001b[0mrespuesta\u001b[0m\u001b[1;33m=\u001b[0m\u001b[0minput\u001b[0m\u001b[1;33m(\u001b[0m\u001b[0mrandom\u001b[0m\u001b[1;33m.\u001b[0m\u001b[0mchoice\u001b[0m\u001b[1;33m(\u001b[0m\u001b[0mpreguntas_Oscars\u001b[0m\u001b[1;33m)\u001b[0m\u001b[1;33m)\u001b[0m\u001b[1;33m\u001b[0m\u001b[1;33m\u001b[0m\u001b[0m\n\u001b[1;32m----> 6\u001b[1;33m         \u001b[0mj\u001b[0m\u001b[1;33m=\u001b[0m \u001b[0mpreguntas_Oscars\u001b[0m\u001b[1;33m.\u001b[0m\u001b[0mindex\u001b[0m\u001b[1;33m(\u001b[0m\u001b[0mpreguntas_Oscars\u001b[0m\u001b[1;33m)\u001b[0m\u001b[1;33m\u001b[0m\u001b[1;33m\u001b[0m\u001b[0m\n\u001b[0m\u001b[0;32m      7\u001b[0m        \u001b[1;31m#print(\"valor de j\",j)\u001b[0m\u001b[1;33m\u001b[0m\u001b[1;33m\u001b[0m\u001b[1;33m\u001b[0m\u001b[0m\n\u001b[0;32m      8\u001b[0m        \u001b[1;31m#print(\"valor de i\",i)\u001b[0m\u001b[1;33m\u001b[0m\u001b[1;33m\u001b[0m\u001b[1;33m\u001b[0m\u001b[0m\n",
      "\u001b[1;31mValueError\u001b[0m: [' Cuantas personas han tenido la estatuilla Oscar a titulo postumo?\\na) 1\\nb) 2\\nc)Nadie\\n', '\\n Cual es el valor de un Oscar?\\na) 1\\nb) 1000\\nc) 10000000\\n', '\\n Quien ha ganado más estatuillas a o largo de la historia?\\na) Tim Burton\\nb) Walt Disney\\nc) Ub Iwerks\\n', '\\n Actriz que ha ganado el mayor numero de Premios Oscar?\\na) Meryl Streep\\nb) Katharine Hepburn\\nc) Helen Rose\\n', '\\n Cuando se transmitieron los Oscar por primera vez en television?\\na) 1953\\nb) 1982\\nc) 1968\\n', '\\n Quien se gano un Oscar despues de haber fallecido?\\na) Robin Williams\\nb) Patrick Swayze\\nc) Heath Ledger\\n', '\\n Ben-Hur, Titanic y el Senor de los Anillos: el Retorno del Rey tienen un triple empate por la pelicula con mas Oscars?\\na) Verdadero\\nb) Falso\\n', '\\n Que actor ostenta mas nominaciones?\\na) Jack Nicholson\\nb) Daniel Day Lewis\\nc) Walter Brennan'] is not in list"
     ]
    }
   ],
   "source": [
    " trivia(preguntas_Oscars, respuestas_Oscars)"
   ]
  },
  {
   "cell_type": "code",
   "execution_count": 83,
   "id": "5f6f4ec8",
   "metadata": {},
   "outputs": [
    {
     "name": "stdout",
     "output_type": "stream",
     "text": [
      "['b', 'a', 'b', 'b', 'a', 'c', 'a', 'a']\n"
     ]
    }
   ],
   "source": [
    "print(respuestas_Oscars)"
   ]
  },
  {
   "cell_type": "code",
   "execution_count": null,
   "id": "6d721d6f",
   "metadata": {},
   "outputs": [],
   "source": []
  },
  {
   "cell_type": "code",
   "execution_count": null,
   "id": "3ec6c9a3",
   "metadata": {},
   "outputs": [],
   "source": []
  }
 ],
 "metadata": {
  "kernelspec": {
   "display_name": "Python 3",
   "language": "python",
   "name": "python3"
  },
  "language_info": {
   "codemirror_mode": {
    "name": "ipython",
    "version": 3
   },
   "file_extension": ".py",
   "mimetype": "text/x-python",
   "name": "python",
   "nbconvert_exporter": "python",
   "pygments_lexer": "ipython3",
   "version": "3.8.9"
  }
 },
 "nbformat": 4,
 "nbformat_minor": 5
}
