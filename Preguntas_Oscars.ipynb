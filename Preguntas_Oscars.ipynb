{
 "cells": [
  {
   "cell_type": "code",
   "execution_count": 96,
   "id": "bf9ea61c",
   "metadata": {},
   "outputs": [],
   "source": [
    "import re\n",
    "import random\n",
    "import os"
   ]
  },
  {
   "cell_type": "code",
   "execution_count": 97,
   "id": "80484116",
   "metadata": {},
   "outputs": [],
   "source": [
    "#Abrimos y leemos el archivo de preguntas\n",
    "with open('Preguntas_prueba','r',encoding='utf8') as p:\n",
    "    text1=p.read()\n",
    "#Separamos por el delimitador las preguntas \n",
    "preguntas_Oscars=text1.split('//')\n",
    "\n",
    "#Abrimos y leemos el archivo de las respuestas\n",
    "with open('Respuestas_Oscars.txt','r',encoding='utf8') as q:\n",
    "    text2=q.read()\n",
    "#Separamos por el delimitador cada respuesta   \n",
    "respuestas_Oscars=text2.split('//')"
   ]
  },
  {
   "cell_type": "code",
   "execution_count": 76,
   "id": "5dbd4de3",
   "metadata": {},
   "outputs": [],
   "source": [
    "#Creamos la clase que se utilizará. \n",
    "class Pregunta:\n",
    "    def __init__(self, pregunta, answer):\n",
    "        self.pregunta = pregunta\n",
    "        self.respuesta = respuesta\n"
   ]
  },
  {
   "cell_type": "code",
   "execution_count": null,
   "id": "112b7f79",
   "metadata": {},
   "outputs": [],
   "source": [
    "#Definimos la funcion que vamos a correr \n",
    "def trivia(preguntas_Oscars, respuestas_Oscars):\n",
    "    score = 0\n",
    "    for i in range(5):\n",
    "        respuesta=input(random.choice(i.preguntas_Oscars))\n",
    "        j= preguntas_Oscars.index(i.preguntas_Oscars)\n",
    "       #print(\"valor de j\",j)\n",
    "       #print(\"valor de i\",i)\n",
    "        #print(respuestas_Oscars[j])\n",
    "        if respuesta==i.respuestas_Oscars[j]:\n",
    "            score+=1\n",
    "            print('Respuesta correcta\\n')\n",
    "        else:\n",
    "            print(\"La respuesta correcta es \", respuestas_Oscars[i],'\\n')\n",
    "        os.system(\"cls\")\n",
    "    \n",
    "       # preguntas_Oscars.remove(preguntar)\n",
    "        #respuestas_Oscars.remove(respuestas_Oscars[i])\n",
    "    \n",
    "    print(\"Tuviste \"+ str(score)+\"/\"+str(5)+\"correctas\")"
   ]
  },
  {
   "cell_type": "code",
   "execution_count": 98,
   "id": "a18eb4be",
   "metadata": {},
   "outputs": [],
   "source": [
    "#Definimos la funcion que vamos a correr \n",
    "def trivia(preguntas_Oscars):\n",
    "    score = 0\n",
    "    for i in range(5):\n",
    "        preguntar= random.choice(preguntas_Oscars)\n",
    "        print(i+1,preguntar)\n",
    "        j= preguntas_Oscars.index(preguntar)\n",
    "        \n",
    "       #print(\"valor de j\",j)\n",
    "       #print(\"valor de i\",i)\n",
    "        #print(respuestas_Oscars[j])\n",
    "        answer = input()\n",
    "        if answer==respuestas_Oscars[j]:\n",
    "            score+=1\n",
    "            print('Respuesta correcta\\n')\n",
    "        else:\n",
    "            print(\"La respuesta correcta es \", respuestas_Oscars[i],'\\n')\n",
    "        os.system(\"cls\")\n",
    "    \n",
    "       # preguntas_Oscars.remove(preguntar)\n",
    "        #respuestas_Oscars.remove(respuestas_Oscars[i])\n",
    "    \n",
    "    print(\"Tuviste \"+ str(score)+\"/\"+str(5)+\"correctas\")"
   ]
  },
  {
   "cell_type": "code",
   "execution_count": 99,
   "id": "9a07062a",
   "metadata": {},
   "outputs": [
    {
     "name": "stdout",
     "output_type": "stream",
     "text": [
      "1 \n",
      "7 Ben-Hur, Titanic y el Senor de los Anillos: el Retorno del Rey tienen un triple empate por la pelicula con mas Oscars?\n",
      "a) Verdadero\n",
      "b) Falso\n",
      "\n",
      "a\n",
      "Respuesta correcta\n",
      "\n",
      "2 \n",
      "13 Cuantos premios Oscars tiene Walt Diseney?\n",
      "a) 22\n",
      "b) 18\n",
      "c) 12\n",
      "\n",
      "c\n",
      "La respuesta correcta es  a \n",
      "\n",
      "3 \n",
      "12 Cuantos Oscars ha ganado \"Lo que el Viento se llevo\"?\n",
      "a) 10\n",
      "b) 8\n",
      "c) 6\n",
      "\n",
      "b\n",
      "La respuesta correcta es  b \n",
      "\n",
      "4 \n",
      "14 Cuantos premios posee España?\n",
      "a) 4\n",
      "b) 3\n",
      "c) 12\n",
      "\n",
      "b\n",
      "La respuesta correcta es  c \n",
      "\n",
      "5 \n",
      "5 Cuando se transmitieron los Oscar por primera vez en television?\n",
      "a) 1953\n",
      "b) 1982\n",
      "c) 1968\n",
      "\n",
      "a\n",
      "Respuesta correcta\n",
      "\n",
      "Tuviste 2/5correctas\n"
     ]
    }
   ],
   "source": [
    " trivia(preguntas_Oscars)"
   ]
  },
  {
   "cell_type": "code",
   "execution_count": 83,
   "id": "5f6f4ec8",
   "metadata": {},
   "outputs": [
    {
     "name": "stdout",
     "output_type": "stream",
     "text": [
      "['b', 'a', 'b', 'b', 'a', 'c', 'a', 'a']\n"
     ]
    }
   ],
   "source": [
    "print(respuestas_Oscars)"
   ]
  },
  {
   "cell_type": "code",
   "execution_count": null,
   "id": "108f59b8",
   "metadata": {},
   "outputs": [],
   "source": []
  },
  {
   "cell_type": "code",
   "execution_count": null,
   "id": "f44d5900",
   "metadata": {},
   "outputs": [],
   "source": []
  }
 ],
 "metadata": {
  "kernelspec": {
   "display_name": "Python 3",
   "language": "python",
   "name": "python3"
  },
  "language_info": {
   "codemirror_mode": {
    "name": "ipython",
    "version": 3
   },
   "file_extension": ".py",
   "mimetype": "text/x-python",
   "name": "python",
   "nbconvert_exporter": "python",
   "pygments_lexer": "ipython3",
   "version": "3.8.9"
  }
 },
 "nbformat": 4,
 "nbformat_minor": 5
}
